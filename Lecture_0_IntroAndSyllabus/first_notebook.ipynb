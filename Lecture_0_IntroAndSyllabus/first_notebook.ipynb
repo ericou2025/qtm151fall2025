{
 "cells": [
  {
   "cell_type": "markdown",
   "id": "b456bd76",
   "metadata": {},
   "source": [
    "<font size = \"8\">\n",
    "This is my first notebook.\n"
   ]
  },
  {
   "cell_type": "code",
   "execution_count": 1,
   "id": "6dac9496",
   "metadata": {},
   "outputs": [
    {
     "name": "stdout",
     "output_type": "stream",
     "text": [
      "my name is Eric. Nice to meet you!\n"
     ]
    }
   ],
   "source": [
    "print(\"my name is Eric. Nice to meet you!\")\n"
   ]
  },
  {
   "cell_type": "code",
   "execution_count": null,
   "id": "f7d63039",
   "metadata": {},
   "outputs": [],
   "source": []
  }
 ],
 "metadata": {
  "kernelspec": {
   "display_name": "base",
   "language": "python",
   "name": "python3"
  },
  "language_info": {
   "codemirror_mode": {
    "name": "ipython",
    "version": 3
   },
   "file_extension": ".py",
   "mimetype": "text/x-python",
   "name": "python",
   "nbconvert_exporter": "python",
   "pygments_lexer": "ipython3",
   "version": "3.13.5"
  }
 },
 "nbformat": 4,
 "nbformat_minor": 5
}
